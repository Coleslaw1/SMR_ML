{
 "cells": [
  {
   "cell_type": "code",
   "execution_count": 2,
   "metadata": {},
   "outputs": [],
   "source": [
    "import pandas\n",
    "from pandas import read_csv, Series\n",
    "from numpy import reshape, array\n",
    "from sklearn import tree\n",
    "from sklearn import preprocessing, linear_model\n",
    "from sklearn.metrics import accuracy_score\n",
    "import pydotplus\n",
    "from sklearn.tree import DecisionTreeClassifier\n",
    "import matplotlib.pyplot as plt\n",
    "import matplotlib.image as pltimg\n",
    "from pandas.plotting import scatter_matrix\n",
    "from sklearn.model_selection import train_test_split"
   ]
  },
  {
   "cell_type": "code",
   "execution_count": 162,
   "metadata": {},
   "outputs": [],
   "source": [
    "names = ['Color', 'Height', 'Width', 'Weight', 'Type']\n",
    "df = pandas.read_csv(\"apples.csv\", names=names)\n",
    "\n",
    "df = df.replace(['gevlekt', 'Groen', 'licht gevlekt', 'Donker groen', 'Roze-rood'],[0,1,2,3,4])\n",
    "df = df.replace(['Elstar', 'Golden Delicious', 'Fuji', 'Royal gala', 'Granny Smith', 'Jonagold', 'Pink lady'],[0,1,2,3,4,5,6])"
   ]
  },
  {
   "cell_type": "code",
   "execution_count": 163,
   "metadata": {},
   "outputs": [],
   "source": [
    "features = ['Color', 'Height', 'Width', 'Weight']\n",
    "X = df[features] # read first column\n",
    "y = df['Type']\n",
    "#print(X)\n",
    "#print(y)"
   ]
  },
  {
   "cell_type": "code",
   "execution_count": 165,
   "metadata": {},
   "outputs": [
    {
     "name": "stdout",
     "output_type": "stream",
     "text": [
      "1.0\n"
     ]
    }
   ],
   "source": [
    "X_train, X_test, y_train, y_test = train_test_split(X, y, test_size=0.25)\n",
    "\n",
    "Classifier = DecisionTreeClassifier()\n",
    "Classifier.fit(X_train, y_train)\n",
    "\n",
    "predictions = Classifier.predict(X_test)\n",
    "print(accuracy_score(y_test, predictions))"
   ]
  },
  {
   "cell_type": "code",
   "execution_count": 166,
   "metadata": {},
   "outputs": [
    {
     "data": {
      "text/plain": [
       "['LR_apples.joblib']"
      ]
     },
     "execution_count": 166,
     "metadata": {},
     "output_type": "execute_result"
    }
   ],
   "source": [
    "from joblib import dump, load\n",
    "dump(Classifier, 'LR_apples.joblib')"
   ]
  },
  {
   "cell_type": "code",
   "execution_count": 9,
   "metadata": {},
   "outputs": [
    {
     "name": "stdout",
     "output_type": "stream",
     "text": [
      "[4]\n"
     ]
    }
   ],
   "source": [
    "modelnew = load('LR_apples.joblib')\n",
    "test = array([4, 79, 87, 210.8])\n",
    "pred = modelnew.predict([test])\n",
    "print(pred)"
   ]
  }
 ],
 "metadata": {
  "kernelspec": {
   "display_name": "Python 3.7.4 64-bit",
   "language": "python",
   "name": "python37464bit58c1192dd54c4ba3b5a5d180b1860758"
  },
  "language_info": {
   "codemirror_mode": {
    "name": "ipython",
    "version": 3
   },
   "file_extension": ".py",
   "mimetype": "text/x-python",
   "name": "python",
   "nbconvert_exporter": "python",
   "pygments_lexer": "ipython3",
   "version": "3.7.4"
  }
 },
 "nbformat": 4,
 "nbformat_minor": 2
}
